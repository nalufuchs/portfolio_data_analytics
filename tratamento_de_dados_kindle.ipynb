{
 "cells": [
  {
   "cell_type": "markdown",
   "id": "3f650bed",
   "metadata": {},
   "source": [
    "# Tratamento de Dados - Planilha de Livros "
   ]
  },
  {
   "cell_type": "markdown",
   "id": "564c9dec",
   "metadata": {},
   "source": [
    "A planilha utilizada neste trabalho foi obtida através da plataforma kaggle. \n",
    "Link: <https://www.kaggle.com/datasets/asaniczka/amazon-kindle-books-dataset-2023-130k-books>"
   ]
  },
  {
   "cell_type": "markdown",
   "id": "907083ad",
   "metadata": {},
   "source": [
    "Importando as bibliotecas"
   ]
  },
  {
   "cell_type": "code",
   "execution_count": 2,
   "id": "8baa95b1",
   "metadata": {},
   "outputs": [],
   "source": [
    "import pandas as pd\n",
    "import numpy as np\n",
    "import matplotlib.pyplot as plt\n",
    "import statistics as sts"
   ]
  },
  {
   "cell_type": "markdown",
   "id": "68649e98",
   "metadata": {},
   "source": [
    "Comando para ler o arquivo CSV contendo as tabelas "
   ]
  },
  {
   "cell_type": "code",
   "execution_count": 3,
   "id": "a2295d3b",
   "metadata": {},
   "outputs": [],
   "source": [
    "df = pd.read_csv('kindle_data.csv')"
   ]
  },
  {
   "cell_type": "markdown",
   "id": "24a0e688",
   "metadata": {},
   "source": [
    "Verificando, no meu data frame, quais colunas possuo. Poderia ter utilizado o comando *.head()* igualmente."
   ]
  },
  {
   "cell_type": "code",
   "execution_count": 4,
   "id": "3b8fbe6f",
   "metadata": {},
   "outputs": [
    {
     "data": {
      "text/plain": [
       "Index(['asin', 'title', 'author', 'soldBy', 'imgUrl', 'productURL', 'stars',\n",
       "       'reviews', 'price', 'isKindleUnlimited', 'category_id', 'isBestSeller',\n",
       "       'isEditorsPick', 'isGoodReadsChoice', 'publishedDate', 'category_name'],\n",
       "      dtype='object')"
      ]
     },
     "execution_count": 4,
     "metadata": {},
     "output_type": "execute_result"
    }
   ],
   "source": [
    "df.columns"
   ]
  },
  {
   "cell_type": "markdown",
   "id": "8ad7931d",
   "metadata": {},
   "source": [
    "A fim de melhor manipulação e pensando no que quero responder, removo as colunas que acredito não ter utilizade nesse instante."
   ]
  },
  {
   "cell_type": "code",
   "execution_count": 4,
   "id": "06fb2c32",
   "metadata": {},
   "outputs": [],
   "source": [
    "df_filtered = df.drop(columns=['asin', 'soldBy', 'imgUrl', 'productURL'])"
   ]
  },
  {
   "cell_type": "code",
   "execution_count": 111,
   "id": "9102b5f2",
   "metadata": {},
   "outputs": [
    {
     "data": {
      "text/plain": [
       "Index(['title', 'author', 'stars', 'reviews', 'price', 'isKindleUnlimited',\n",
       "       'category_id', 'isBestSeller', 'isEditorsPick', 'isGoodReadsChoice',\n",
       "       'publishedDate', 'category_name'],\n",
       "      dtype='object')"
      ]
     },
     "execution_count": 111,
     "metadata": {},
     "output_type": "execute_result"
    }
   ],
   "source": [
    "df_filtered.columns"
   ]
  },
  {
   "cell_type": "markdown",
   "id": "e226308b",
   "metadata": {},
   "source": [
    "Agora, o dataframe trabalhado será o *df_filtered*, e, apenas para verificar se o comando deu certo, solicitei as colunas novamente e, a seguir, um describe() que me gerará informações gerais para ter uma ideia daquilo que estou trabalhando."
   ]
  },
  {
   "cell_type": "code",
   "execution_count": 135,
   "id": "d44d84fe",
   "metadata": {},
   "outputs": [
    {
     "data": {
      "text/html": [
       "<div>\n",
       "<style scoped>\n",
       "    .dataframe tbody tr th:only-of-type {\n",
       "        vertical-align: middle;\n",
       "    }\n",
       "\n",
       "    .dataframe tbody tr th {\n",
       "        vertical-align: top;\n",
       "    }\n",
       "\n",
       "    .dataframe thead th {\n",
       "        text-align: right;\n",
       "    }\n",
       "</style>\n",
       "<table border=\"1\" class=\"dataframe\">\n",
       "  <thead>\n",
       "    <tr style=\"text-align: right;\">\n",
       "      <th></th>\n",
       "      <th>stars</th>\n",
       "      <th>reviews</th>\n",
       "      <th>price</th>\n",
       "      <th>category_id</th>\n",
       "    </tr>\n",
       "  </thead>\n",
       "  <tbody>\n",
       "    <tr>\n",
       "      <th>count</th>\n",
       "      <td>133102.000000</td>\n",
       "      <td>133102.000000</td>\n",
       "      <td>133102.000000</td>\n",
       "      <td>133102.000000</td>\n",
       "    </tr>\n",
       "    <tr>\n",
       "      <th>mean</th>\n",
       "      <td>4.404090</td>\n",
       "      <td>887.375779</td>\n",
       "      <td>15.134127</td>\n",
       "      <td>16.287111</td>\n",
       "    </tr>\n",
       "    <tr>\n",
       "      <th>std</th>\n",
       "      <td>0.745646</td>\n",
       "      <td>5104.878777</td>\n",
       "      <td>22.254986</td>\n",
       "      <td>8.416924</td>\n",
       "    </tr>\n",
       "    <tr>\n",
       "      <th>min</th>\n",
       "      <td>0.000000</td>\n",
       "      <td>0.000000</td>\n",
       "      <td>0.000000</td>\n",
       "      <td>1.000000</td>\n",
       "    </tr>\n",
       "    <tr>\n",
       "      <th>25%</th>\n",
       "      <td>4.400000</td>\n",
       "      <td>0.000000</td>\n",
       "      <td>4.990000</td>\n",
       "      <td>9.000000</td>\n",
       "    </tr>\n",
       "    <tr>\n",
       "      <th>50%</th>\n",
       "      <td>4.500000</td>\n",
       "      <td>4.000000</td>\n",
       "      <td>9.990000</td>\n",
       "      <td>16.000000</td>\n",
       "    </tr>\n",
       "    <tr>\n",
       "      <th>75%</th>\n",
       "      <td>4.700000</td>\n",
       "      <td>365.000000</td>\n",
       "      <td>14.990000</td>\n",
       "      <td>23.000000</td>\n",
       "    </tr>\n",
       "    <tr>\n",
       "      <th>max</th>\n",
       "      <td>5.000000</td>\n",
       "      <td>618227.000000</td>\n",
       "      <td>682.000000</td>\n",
       "      <td>31.000000</td>\n",
       "    </tr>\n",
       "  </tbody>\n",
       "</table>\n",
       "</div>"
      ],
      "text/plain": [
       "               stars        reviews          price    category_id\n",
       "count  133102.000000  133102.000000  133102.000000  133102.000000\n",
       "mean        4.404090     887.375779      15.134127      16.287111\n",
       "std         0.745646    5104.878777      22.254986       8.416924\n",
       "min         0.000000       0.000000       0.000000       1.000000\n",
       "25%         4.400000       0.000000       4.990000       9.000000\n",
       "50%         4.500000       4.000000       9.990000      16.000000\n",
       "75%         4.700000     365.000000      14.990000      23.000000\n",
       "max         5.000000  618227.000000     682.000000      31.000000"
      ]
     },
     "execution_count": 135,
     "metadata": {},
     "output_type": "execute_result"
    }
   ],
   "source": [
    "df_filtered.describe()"
   ]
  },
  {
   "cell_type": "markdown",
   "id": "538df40d",
   "metadata": {},
   "source": [
    "## Avaliando os dados, consigo avaliar o ranking dos autores mais populares baseado no número de publicações e avaliações:"
   ]
  },
  {
   "cell_type": "markdown",
   "id": "45a23a7b",
   "metadata": {},
   "source": [
    "Realizo a criação de um novo dataframe utilizando a função *.groupby()*, agrupando os títulos e avaliações (em estrelas) por autor."
   ]
  },
  {
   "cell_type": "code",
   "execution_count": 125,
   "id": "159e95a3",
   "metadata": {},
   "outputs": [],
   "source": [
    "df_ranking_authors = df_filtered.groupby('author').agg({'stars': 'mean', 'title': 'count'}).reset_index().sort_values(['title'])"
   ]
  },
  {
   "cell_type": "markdown",
   "id": "8ffa72da",
   "metadata": {},
   "source": [
    "Assim, possuo um ranking dos autores baseando-se no número de publicações e a média de avaliações (em estrelas, sendo de 0 a 5) que possuem suas publicações."
   ]
  },
  {
   "cell_type": "code",
   "execution_count": 126,
   "id": "08cbddab",
   "metadata": {},
   "outputs": [
    {
     "data": {
      "text/html": [
       "<div>\n",
       "<style scoped>\n",
       "    .dataframe tbody tr th:only-of-type {\n",
       "        vertical-align: middle;\n",
       "    }\n",
       "\n",
       "    .dataframe tbody tr th {\n",
       "        vertical-align: top;\n",
       "    }\n",
       "\n",
       "    .dataframe thead th {\n",
       "        text-align: right;\n",
       "    }\n",
       "</style>\n",
       "<table border=\"1\" class=\"dataframe\">\n",
       "  <thead>\n",
       "    <tr style=\"text-align: right;\">\n",
       "      <th></th>\n",
       "      <th>author</th>\n",
       "      <th>stars</th>\n",
       "      <th>title</th>\n",
       "    </tr>\n",
       "  </thead>\n",
       "  <tbody>\n",
       "    <tr>\n",
       "      <th>36402</th>\n",
       "      <td>Juliette Powell</td>\n",
       "      <td>4.400000</td>\n",
       "      <td>1</td>\n",
       "    </tr>\n",
       "    <tr>\n",
       "      <th>45083</th>\n",
       "      <td>Marilyn Frenn</td>\n",
       "      <td>4.500000</td>\n",
       "      <td>1</td>\n",
       "    </tr>\n",
       "    <tr>\n",
       "      <th>45085</th>\n",
       "      <td>Marilyn Hickey</td>\n",
       "      <td>4.800000</td>\n",
       "      <td>1</td>\n",
       "    </tr>\n",
       "    <tr>\n",
       "      <th>45086</th>\n",
       "      <td>Marilyn J. Berger</td>\n",
       "      <td>0.000000</td>\n",
       "      <td>1</td>\n",
       "    </tr>\n",
       "    <tr>\n",
       "      <th>45088</th>\n",
       "      <td>Marilyn J. Roossinck</td>\n",
       "      <td>4.300000</td>\n",
       "      <td>1</td>\n",
       "    </tr>\n",
       "    <tr>\n",
       "      <th>...</th>\n",
       "      <td>...</td>\n",
       "      <td>...</td>\n",
       "      <td>...</td>\n",
       "    </tr>\n",
       "    <tr>\n",
       "      <th>22465</th>\n",
       "      <td>Fodor's Travel Guides</td>\n",
       "      <td>4.275652</td>\n",
       "      <td>115</td>\n",
       "    </tr>\n",
       "    <tr>\n",
       "      <th>9581</th>\n",
       "      <td>Captivating History</td>\n",
       "      <td>4.259167</td>\n",
       "      <td>120</td>\n",
       "    </tr>\n",
       "    <tr>\n",
       "      <th>13934</th>\n",
       "      <td>DK</td>\n",
       "      <td>4.672258</td>\n",
       "      <td>155</td>\n",
       "    </tr>\n",
       "    <tr>\n",
       "      <th>13935</th>\n",
       "      <td>DK Eyewitness</td>\n",
       "      <td>4.174847</td>\n",
       "      <td>163</td>\n",
       "    </tr>\n",
       "    <tr>\n",
       "      <th>29359</th>\n",
       "      <td>James Patterson</td>\n",
       "      <td>4.486321</td>\n",
       "      <td>212</td>\n",
       "    </tr>\n",
       "  </tbody>\n",
       "</table>\n",
       "<p>72805 rows × 3 columns</p>\n",
       "</div>"
      ],
      "text/plain": [
       "                      author     stars  title\n",
       "36402        Juliette Powell  4.400000      1\n",
       "45083          Marilyn Frenn  4.500000      1\n",
       "45085         Marilyn Hickey  4.800000      1\n",
       "45086      Marilyn J. Berger  0.000000      1\n",
       "45088   Marilyn J. Roossinck  4.300000      1\n",
       "...                      ...       ...    ...\n",
       "22465  Fodor's Travel Guides  4.275652    115\n",
       "9581     Captivating History  4.259167    120\n",
       "13934                     DK  4.672258    155\n",
       "13935          DK Eyewitness  4.174847    163\n",
       "29359        James Patterson  4.486321    212\n",
       "\n",
       "[72805 rows x 3 columns]"
      ]
     },
     "execution_count": 126,
     "metadata": {},
     "output_type": "execute_result"
    }
   ],
   "source": [
    "df_ranking_authors"
   ]
  },
  {
   "cell_type": "markdown",
   "id": "48426f94",
   "metadata": {},
   "source": [
    "A fim de verificar um \"top20\", utilizei a função *nlargest()* para selecionar os maiores valores da coluna \"título\", partindo do princípio que, quanto mais publicações, mais renome na área o artista possui."
   ]
  },
  {
   "cell_type": "code",
   "execution_count": 136,
   "id": "4c36082b",
   "metadata": {},
   "outputs": [],
   "source": [
    "top20 = df_ranking_authors.nlargest(20, 'title')"
   ]
  },
  {
   "cell_type": "markdown",
   "id": "598e93c5",
   "metadata": {},
   "source": [
    "Utilizei função lambda para criar um range de 0 a 20, no ranking dos autores mais populares"
   ]
  },
  {
   "cell_type": "code",
   "execution_count": 139,
   "id": "c992364c",
   "metadata": {},
   "outputs": [],
   "source": [
    "top20['ranking'] = x = [x + 1 for x in range(0, 20)]"
   ]
  },
  {
   "cell_type": "markdown",
   "id": "a9432f15",
   "metadata": {},
   "source": [
    "Adicionei como index o ranking, selecionando os autores a partir de sua colocação (primeiro, segundo, etc.)"
   ]
  },
  {
   "cell_type": "code",
   "execution_count": 141,
   "id": "8792f541",
   "metadata": {},
   "outputs": [],
   "source": [
    "top20.set_index('ranking', inplace=True)"
   ]
  },
  {
   "cell_type": "code",
   "execution_count": 142,
   "id": "956857ec",
   "metadata": {},
   "outputs": [
    {
     "data": {
      "text/html": [
       "<div>\n",
       "<style scoped>\n",
       "    .dataframe tbody tr th:only-of-type {\n",
       "        vertical-align: middle;\n",
       "    }\n",
       "\n",
       "    .dataframe tbody tr th {\n",
       "        vertical-align: top;\n",
       "    }\n",
       "\n",
       "    .dataframe thead th {\n",
       "        text-align: right;\n",
       "    }\n",
       "</style>\n",
       "<table border=\"1\" class=\"dataframe\">\n",
       "  <thead>\n",
       "    <tr style=\"text-align: right;\">\n",
       "      <th></th>\n",
       "      <th>author</th>\n",
       "      <th>stars</th>\n",
       "      <th>title</th>\n",
       "    </tr>\n",
       "    <tr>\n",
       "      <th>ranking</th>\n",
       "      <th></th>\n",
       "      <th></th>\n",
       "      <th></th>\n",
       "    </tr>\n",
       "  </thead>\n",
       "  <tbody>\n",
       "    <tr>\n",
       "      <th>1</th>\n",
       "      <td>James Patterson</td>\n",
       "      <td>4.486321</td>\n",
       "      <td>212</td>\n",
       "    </tr>\n",
       "    <tr>\n",
       "      <th>2</th>\n",
       "      <td>DK Eyewitness</td>\n",
       "      <td>4.174847</td>\n",
       "      <td>163</td>\n",
       "    </tr>\n",
       "    <tr>\n",
       "      <th>3</th>\n",
       "      <td>DK</td>\n",
       "      <td>4.672258</td>\n",
       "      <td>155</td>\n",
       "    </tr>\n",
       "    <tr>\n",
       "      <th>4</th>\n",
       "      <td>Captivating History</td>\n",
       "      <td>4.259167</td>\n",
       "      <td>120</td>\n",
       "    </tr>\n",
       "    <tr>\n",
       "      <th>5</th>\n",
       "      <td>Fodor's Travel Guides</td>\n",
       "      <td>4.275652</td>\n",
       "      <td>115</td>\n",
       "    </tr>\n",
       "    <tr>\n",
       "      <th>6</th>\n",
       "      <td>Erin Hunter</td>\n",
       "      <td>4.785088</td>\n",
       "      <td>114</td>\n",
       "    </tr>\n",
       "    <tr>\n",
       "      <th>7</th>\n",
       "      <td>J.K. Rowling</td>\n",
       "      <td>4.743363</td>\n",
       "      <td>113</td>\n",
       "    </tr>\n",
       "    <tr>\n",
       "      <th>8</th>\n",
       "      <td>Hourly History</td>\n",
       "      <td>4.256311</td>\n",
       "      <td>103</td>\n",
       "    </tr>\n",
       "    <tr>\n",
       "      <th>9</th>\n",
       "      <td>Nora Roberts</td>\n",
       "      <td>4.546465</td>\n",
       "      <td>99</td>\n",
       "    </tr>\n",
       "    <tr>\n",
       "      <th>10</th>\n",
       "      <td>America's Test Kitchen</td>\n",
       "      <td>4.577778</td>\n",
       "      <td>99</td>\n",
       "    </tr>\n",
       "    <tr>\n",
       "      <th>11</th>\n",
       "      <td>Stephen King</td>\n",
       "      <td>4.519192</td>\n",
       "      <td>99</td>\n",
       "    </tr>\n",
       "    <tr>\n",
       "      <th>12</th>\n",
       "      <td>Rick Riordan</td>\n",
       "      <td>4.726882</td>\n",
       "      <td>93</td>\n",
       "    </tr>\n",
       "    <tr>\n",
       "      <th>13</th>\n",
       "      <td>Terry Pratchett</td>\n",
       "      <td>4.610000</td>\n",
       "      <td>90</td>\n",
       "    </tr>\n",
       "    <tr>\n",
       "      <th>14</th>\n",
       "      <td>Dianne Harman</td>\n",
       "      <td>4.509302</td>\n",
       "      <td>86</td>\n",
       "    </tr>\n",
       "    <tr>\n",
       "      <th>15</th>\n",
       "      <td>Olly Richards</td>\n",
       "      <td>4.548193</td>\n",
       "      <td>83</td>\n",
       "    </tr>\n",
       "    <tr>\n",
       "      <th>16</th>\n",
       "      <td>Mary Stone</td>\n",
       "      <td>4.561842</td>\n",
       "      <td>76</td>\n",
       "    </tr>\n",
       "    <tr>\n",
       "      <th>17</th>\n",
       "      <td>Lincoln Peirce</td>\n",
       "      <td>4.613158</td>\n",
       "      <td>76</td>\n",
       "    </tr>\n",
       "    <tr>\n",
       "      <th>18</th>\n",
       "      <td>Brandon Sanderson</td>\n",
       "      <td>4.663158</td>\n",
       "      <td>76</td>\n",
       "    </tr>\n",
       "    <tr>\n",
       "      <th>19</th>\n",
       "      <td>Rick Steves</td>\n",
       "      <td>4.535526</td>\n",
       "      <td>76</td>\n",
       "    </tr>\n",
       "    <tr>\n",
       "      <th>20</th>\n",
       "      <td>Michael Anderle</td>\n",
       "      <td>4.656164</td>\n",
       "      <td>73</td>\n",
       "    </tr>\n",
       "  </tbody>\n",
       "</table>\n",
       "</div>"
      ],
      "text/plain": [
       "                         author     stars  title\n",
       "ranking                                         \n",
       "1               James Patterson  4.486321    212\n",
       "2                 DK Eyewitness  4.174847    163\n",
       "3                            DK  4.672258    155\n",
       "4           Captivating History  4.259167    120\n",
       "5         Fodor's Travel Guides  4.275652    115\n",
       "6                   Erin Hunter  4.785088    114\n",
       "7                  J.K. Rowling  4.743363    113\n",
       "8                Hourly History  4.256311    103\n",
       "9                  Nora Roberts  4.546465     99\n",
       "10       America's Test Kitchen  4.577778     99\n",
       "11                 Stephen King  4.519192     99\n",
       "12                 Rick Riordan  4.726882     93\n",
       "13              Terry Pratchett  4.610000     90\n",
       "14                Dianne Harman  4.509302     86\n",
       "15                Olly Richards  4.548193     83\n",
       "16                   Mary Stone  4.561842     76\n",
       "17               Lincoln Peirce  4.613158     76\n",
       "18            Brandon Sanderson  4.663158     76\n",
       "19                  Rick Steves  4.535526     76\n",
       "20              Michael Anderle  4.656164     73"
      ]
     },
     "execution_count": 142,
     "metadata": {},
     "output_type": "execute_result"
    }
   ],
   "source": [
    "top20"
   ]
  },
  {
   "cell_type": "markdown",
   "id": "e6381e78",
   "metadata": {},
   "source": [
    "## A avaliação do Kindle Unlimited e seu impacto na venda dos livros partindo do pressuposto que, quanto mais reviews, mais vendas obtiveram."
   ]
  },
  {
   "cell_type": "markdown",
   "id": "e6a9400b",
   "metadata": {},
   "source": [
    "Para considerar as vendas, avaliei como Reviews, visto que livros mais vendidos possuem maior número de reviews (sejam positivas ou negativas), visto que, se fosse considerar as estrelas de cada livro, existem livros bem avaliados e sem nenhum review do comprador. "
   ]
  },
  {
   "cell_type": "markdown",
   "id": "b5cb38b2",
   "metadata": {},
   "source": [
    "Portanto, utilizei um filtro para dividir em, resumidamente, dois blocos: a presença ou ausência do kindle unlimited."
   ]
  },
  {
   "cell_type": "code",
   "execution_count": 146,
   "id": "fb14d73b",
   "metadata": {},
   "outputs": [],
   "source": [
    "k_unl = df_filtered['reviews'].loc[df_filtered['isKindleUnlimited'] == True].sum()"
   ]
  },
  {
   "cell_type": "code",
   "execution_count": 147,
   "id": "1f5e0497",
   "metadata": {},
   "outputs": [],
   "source": [
    "k_unl_false = df_filtered['reviews'].loc[df_filtered['isKindleUnlimited'] == False].sum()"
   ]
  },
  {
   "cell_type": "markdown",
   "id": "6ce499e1",
   "metadata": {},
   "source": [
    "Assim, com esses valores, é permitido plotar em um gráfico que, para maior visualização, optei pelo gráfico em pizza:"
   ]
  },
  {
   "cell_type": "code",
   "execution_count": 148,
   "id": "99f38d74",
   "metadata": {},
   "outputs": [
    {
     "data": {
      "image/png": "[encoded data removed]",
      "text/plain": [
       "<Figure size 640x480 with 1 Axes>"
      ]
     },
     "metadata": {},
     "output_type": "display_data"
    }
   ],
   "source": [
    "valores = [k_unl, k_unl_false]\n",
    "\n",
    "# Rótulos das fatias\n",
    "rotulos = ['Kindle Unlimited True', 'Kindle Unlimited False']\n",
    "\n",
    "# Cores das fatias\n",
    "cores = ['blue', 'orange']\n",
    "\n",
    "# Criando o gráfico de pizza\n",
    "plt.pie(valores, labels=rotulos, colors=cores, autopct='%1.1f%%')\n",
    "#autopct foi utilizado para manter a formatação dos valores dentro do gráfico em uma casa após a vírgula\n",
    "\n",
    "# Adicionando título\n",
    "plt.title('Kindle Unlimited influenciando nas vendas dos livros')\n",
    "\n",
    "# Mostrando o gráfico\n",
    "plt.show()"
   ]
  },
  {
   "cell_type": "markdown",
   "id": "8e0dddb9",
   "metadata": {
    "scrolled": false
   },
   "source": [
    "## Agora, iremos avaliar a influência da opção \"Bestseller\" e \"Editorspick\" nas vendas dos livros."
   ]
  },
  {
   "cell_type": "markdown",
   "id": "a32659cc",
   "metadata": {},
   "source": [
    "Acredito que, como visto no exemplo acima, as vendas são melhores compreendidas de maneira gráfica. Portanto, como fiz anteriormente, separei em grandes \"blocos\" para cada uma das opções: *bestseller true* ou *false*, *editorspick true* ou *false*"
   ]
  },
  {
   "cell_type": "markdown",
   "id": "94fbfb5c",
   "metadata": {},
   "source": [
    "Conforme utilizei anteriormente os *reviews* para avaliar venda, repetirei o processo. Assim, para cada categoria de True ou False, somei o total de reviews e contei o total de títulos presentes."
   ]
  },
  {
   "cell_type": "code",
   "execution_count": 63,
   "id": "b290aecc",
   "metadata": {},
   "outputs": [],
   "source": [
    "best_true = df_filtered.loc[df_filtered['isBestSeller'] == True].agg({'reviews': 'sum', 'title': 'count'})"
   ]
  },
  {
   "cell_type": "code",
   "execution_count": 64,
   "id": "5f4e37ee",
   "metadata": {},
   "outputs": [],
   "source": [
    "best_false = df_filtered.loc[df_filtered['isBestSeller'] == False].agg({'reviews': 'sum', 'title': 'count'})"
   ]
  },
  {
   "cell_type": "markdown",
   "id": "10b74e0c",
   "metadata": {},
   "source": [
    "Após a separação desses blocos, para considerar a diferença da quantidade de títulos que pudessem existir ou de reviews em demasia que influenciariam em um livro apenas, resolvi gerar uma constância: a quantidade de reviews, que foi a categoria selecionada para avaliar vendas, por cada título - ou seja, uma proporção de reviews por título."
   ]
  },
  {
   "cell_type": "markdown",
   "id": "c3750f3e",
   "metadata": {},
   "source": [
    "Assim, para cada bloco de *BestSeller True* ou *BestSeller False*, trabalharia com a proporção da quantidade de reviews dividida pelo número de títulos."
   ]
  },
  {
   "cell_type": "code",
   "execution_count": 66,
   "id": "2c9dd2de",
   "metadata": {},
   "outputs": [],
   "source": [
    "b_true_per_book = best_true[0] / best_true[1]"
   ]
  },
  {
   "cell_type": "code",
   "execution_count": 67,
   "id": "35f60218",
   "metadata": {},
   "outputs": [],
   "source": [
    "b_false_per_book = best_false[0] / best_false[1]"
   ]
  },
  {
   "cell_type": "markdown",
   "id": "0fe11a15",
   "metadata": {},
   "source": [
    "Repete-se o mesmo processo feito anteriormente para bestseller:"
   ]
  },
  {
   "cell_type": "code",
   "execution_count": 68,
   "id": "3469930c",
   "metadata": {},
   "outputs": [],
   "source": [
    "editors_false = df_filtered.loc[df_filtered['isEditorsPick'] == False].agg({'reviews': 'sum', 'title': 'count'})"
   ]
  },
  {
   "cell_type": "code",
   "execution_count": 69,
   "id": "3c02c952",
   "metadata": {},
   "outputs": [],
   "source": [
    "editors_true = df_filtered.loc[df_filtered['isEditorsPick'] == True].agg({'reviews': 'sum', 'title': 'count'})"
   ]
  },
  {
   "cell_type": "code",
   "execution_count": 70,
   "id": "a4420b10",
   "metadata": {},
   "outputs": [],
   "source": [
    "e_false_per_book = editors_false[0] / editors_false[1]"
   ]
  },
  {
   "cell_type": "code",
   "execution_count": 71,
   "id": "3c8eb19e",
   "metadata": {},
   "outputs": [],
   "source": [
    "e_true_per_book = editors_true[0] / editors_true[1]"
   ]
  },
  {
   "cell_type": "markdown",
   "id": "df5abe86",
   "metadata": {},
   "source": [
    "Agora que possuo tanto as proporções de reviews por título de cada uma das categorias, cria-se um gráfico para melhor visualizar a proporção de cada:"
   ]
  },
  {
   "cell_type": "code",
   "execution_count": 149,
   "id": "35c986e3",
   "metadata": {},
   "outputs": [
    {
     "data": {
      "image/png": "[encoded data removed]",
      "text/plain": [
       "<Figure size 640x480 with 1 Axes>"
      ]
     },
     "metadata": {},
     "output_type": "display_data"
    }
   ],
   "source": [
    "# Dados\n",
    "categorias = ['editors_pick_true', 'editors_pick_false', 'bestseller_true', 'bestseller_false']\n",
    "valores = [e_true_per_book, e_false_per_book, b_true_per_book, b_false_per_book]\n",
    "\n",
    "# Criando o gráfico de barras agrupadas\n",
    "plt.barh(categorias, valores, label='Proporção Título por Livro', color='y')\n",
    "\n",
    "# Adicionando título e rótulos aos eixos\n",
    "plt.title('Influência de Bestseller ou Editorspick nas vendas dos livros')\n",
    "plt.xlabel('Proporção reviews / títulos')\n",
    "plt.ylabel('bestseller ou editorspick')\n",
    "\n",
    "# Adicionando legenda\n",
    "plt.legend()\n",
    "\n",
    "# Mostrando o gráfico\n",
    "plt.show()"
   ]
  },
  {
   "cell_type": "markdown",
   "id": "f1fed70e",
   "metadata": {},
   "source": [
    "De uma maneira mais visual, é perceptível a diferença no número de vendas que ser a *Escolha do Diretor* realiza, bem como é perceptível que a presença do título de *BestSeller* influencia positivamente nas vendas dos livros."
   ]
  },
  {
   "cell_type": "markdown",
   "id": "57c92adb",
   "metadata": {},
   "source": [
    "## Agora será realizada uma análise da publicação dos livros com o decorrer do tempo para identificação de alguma sazonalidade."
   ]
  },
  {
   "cell_type": "markdown",
   "id": "5c5f19ee",
   "metadata": {},
   "source": [
    "Para análise, preciso separar os lançamentos de acordo com o ano. Portanto, ocorrerão alteração nas colunas. Assim, para manipular nos dados sem correr o risco de perder os dados originais, copiou-se o dataframe. Será utilizado então o \"df_copy\"."
   ]
  },
  {
   "cell_type": "code",
   "execution_count": 150,
   "id": "9d40557e",
   "metadata": {},
   "outputs": [],
   "source": [
    "df_copy = df_filtered.copy()"
   ]
  },
  {
   "cell_type": "code",
   "execution_count": 99,
   "id": "6ef948b3",
   "metadata": {},
   "outputs": [
    {
     "data": {
      "text/plain": [
       "133102"
      ]
     },
     "execution_count": 99,
     "metadata": {},
     "output_type": "execute_result"
    }
   ],
   "source": [
    "df_filtered['title'].count()"
   ]
  },
  {
   "cell_type": "markdown",
   "id": "420c5c61",
   "metadata": {},
   "source": [
    "Realizei este comando apenas para verificar quantos títulos já foram lançados que estão presentes no dataframe. Por se tratar de um valor alto, não é viável separar por data de lançamento. Assim, será organizado em ano de lançamento."
   ]
  },
  {
   "cell_type": "markdown",
   "id": "1b8b8b52",
   "metadata": {},
   "source": [
    "Para tal, utiliza-se a função *to_datetime()* que detecta os valores na coluna *publishedDate* e transforma em data, facilitando a manipulação."
   ]
  },
  {
   "cell_type": "code",
   "execution_count": 151,
   "id": "06b4838b",
   "metadata": {},
   "outputs": [],
   "source": [
    "df_copy['publishedDate'] = pd.to_datetime(df_copy['publishedDate'])"
   ]
  },
  {
   "cell_type": "markdown",
   "id": "8c358651",
   "metadata": {},
   "source": [
    "Este comando será para selecionar apenas os anos de lançamento de cada livro:"
   ]
  },
  {
   "cell_type": "code",
   "execution_count": 153,
   "id": "122ecbca",
   "metadata": {},
   "outputs": [],
   "source": [
    "df_copy['published_year'] = df_copy['publishedDate'].dt.year"
   ]
  },
  {
   "cell_type": "markdown",
   "id": "752fd98d",
   "metadata": {},
   "source": [
    "Nesta linha, utilizei o *groupby* para agrupar por ano de lançamento, contando quantos títulos foram lançados naquele ano e organizando de maneira crescente pelo ANO, desde o primeiro lançamento no ano de 1806 até atualmente, salvando na variável _df_contagem_."
   ]
  },
  {
   "cell_type": "code",
   "execution_count": 154,
   "id": "b131ed96",
   "metadata": {},
   "outputs": [],
   "source": [
    "df_contagem = df_copy.groupby(['published_year'])['title'].count().reset_index(name='quantidade').sort_values('published_year', ascending=True)"
   ]
  },
  {
   "cell_type": "markdown",
   "id": "627770bc",
   "metadata": {},
   "source": [
    "Apenas para verificar se a contagem está crescente e conforme solicitado, utilizei o comando *.head()* para ver as primeiras cinco linhas."
   ]
  },
  {
   "cell_type": "code",
   "execution_count": 29,
   "id": "cab16d80",
   "metadata": {},
   "outputs": [
    {
     "data": {
      "text/html": [
       "<div>\n",
       "<style scoped>\n",
       "    .dataframe tbody tr th:only-of-type {\n",
       "        vertical-align: middle;\n",
       "    }\n",
       "\n",
       "    .dataframe tbody tr th {\n",
       "        vertical-align: top;\n",
       "    }\n",
       "\n",
       "    .dataframe thead th {\n",
       "        text-align: right;\n",
       "    }\n",
       "</style>\n",
       "<table border=\"1\" class=\"dataframe\">\n",
       "  <thead>\n",
       "    <tr style=\"text-align: right;\">\n",
       "      <th></th>\n",
       "      <th>published_year</th>\n",
       "      <th>quantidade</th>\n",
       "    </tr>\n",
       "  </thead>\n",
       "  <tbody>\n",
       "    <tr>\n",
       "      <th>0</th>\n",
       "      <td>1806.0</td>\n",
       "      <td>1</td>\n",
       "    </tr>\n",
       "    <tr>\n",
       "      <th>1</th>\n",
       "      <td>1900.0</td>\n",
       "      <td>2</td>\n",
       "    </tr>\n",
       "    <tr>\n",
       "      <th>2</th>\n",
       "      <td>1928.0</td>\n",
       "      <td>2</td>\n",
       "    </tr>\n",
       "    <tr>\n",
       "      <th>3</th>\n",
       "      <td>1929.0</td>\n",
       "      <td>2</td>\n",
       "    </tr>\n",
       "    <tr>\n",
       "      <th>4</th>\n",
       "      <td>1930.0</td>\n",
       "      <td>5</td>\n",
       "    </tr>\n",
       "  </tbody>\n",
       "</table>\n",
       "</div>"
      ],
      "text/plain": [
       "   published_year  quantidade\n",
       "0          1806.0           1\n",
       "1          1900.0           2\n",
       "2          1928.0           2\n",
       "3          1929.0           2\n",
       "4          1930.0           5"
      ]
     },
     "execution_count": 29,
     "metadata": {},
     "output_type": "execute_result"
    }
   ],
   "source": [
    "df_contagem.head()"
   ]
  },
  {
   "cell_type": "markdown",
   "id": "85cfb707",
   "metadata": {},
   "source": [
    "Apenas a fim de curiosidade, outro comando para realizar o filtro de livros publicados por ano, com o comando *.size()*"
   ]
  },
  {
   "cell_type": "code",
   "execution_count": 155,
   "id": "be694d74",
   "metadata": {},
   "outputs": [
    {
     "data": {
      "text/html": [
       "<div>\n",
       "<style scoped>\n",
       "    .dataframe tbody tr th:only-of-type {\n",
       "        vertical-align: middle;\n",
       "    }\n",
       "\n",
       "    .dataframe tbody tr th {\n",
       "        vertical-align: top;\n",
       "    }\n",
       "\n",
       "    .dataframe thead th {\n",
       "        text-align: right;\n",
       "    }\n",
       "</style>\n",
       "<table border=\"1\" class=\"dataframe\">\n",
       "  <thead>\n",
       "    <tr style=\"text-align: right;\">\n",
       "      <th></th>\n",
       "      <th>published_year</th>\n",
       "      <th>quantidade</th>\n",
       "    </tr>\n",
       "  </thead>\n",
       "  <tbody>\n",
       "    <tr>\n",
       "      <th>0</th>\n",
       "      <td>1806.0</td>\n",
       "      <td>1</td>\n",
       "    </tr>\n",
       "    <tr>\n",
       "      <th>1</th>\n",
       "      <td>1900.0</td>\n",
       "      <td>2</td>\n",
       "    </tr>\n",
       "    <tr>\n",
       "      <th>2</th>\n",
       "      <td>1928.0</td>\n",
       "      <td>2</td>\n",
       "    </tr>\n",
       "    <tr>\n",
       "      <th>3</th>\n",
       "      <td>1929.0</td>\n",
       "      <td>2</td>\n",
       "    </tr>\n",
       "    <tr>\n",
       "      <th>4</th>\n",
       "      <td>1930.0</td>\n",
       "      <td>5</td>\n",
       "    </tr>\n",
       "    <tr>\n",
       "      <th>...</th>\n",
       "      <td>...</td>\n",
       "      <td>...</td>\n",
       "    </tr>\n",
       "    <tr>\n",
       "      <th>85</th>\n",
       "      <td>2020.0</td>\n",
       "      <td>7408</td>\n",
       "    </tr>\n",
       "    <tr>\n",
       "      <th>86</th>\n",
       "      <td>2021.0</td>\n",
       "      <td>8215</td>\n",
       "    </tr>\n",
       "    <tr>\n",
       "      <th>87</th>\n",
       "      <td>2022.0</td>\n",
       "      <td>10587</td>\n",
       "    </tr>\n",
       "    <tr>\n",
       "      <th>88</th>\n",
       "      <td>2023.0</td>\n",
       "      <td>14537</td>\n",
       "    </tr>\n",
       "    <tr>\n",
       "      <th>89</th>\n",
       "      <td>2024.0</td>\n",
       "      <td>1</td>\n",
       "    </tr>\n",
       "  </tbody>\n",
       "</table>\n",
       "<p>90 rows × 2 columns</p>\n",
       "</div>"
      ],
      "text/plain": [
       "    published_year  quantidade\n",
       "0           1806.0           1\n",
       "1           1900.0           2\n",
       "2           1928.0           2\n",
       "3           1929.0           2\n",
       "4           1930.0           5\n",
       "..             ...         ...\n",
       "85          2020.0        7408\n",
       "86          2021.0        8215\n",
       "87          2022.0       10587\n",
       "88          2023.0       14537\n",
       "89          2024.0           1\n",
       "\n",
       "[90 rows x 2 columns]"
      ]
     },
     "execution_count": 155,
     "metadata": {},
     "output_type": "execute_result"
    }
   ],
   "source": [
    "#df_copy.groupby('published_year').size().reset_index(name='quantidade')"
   ]
  },
  {
   "cell_type": "markdown",
   "id": "98962b91",
   "metadata": {},
   "source": [
    "Agora, para visualizar possível sazonalidade ou algum padrão, irei plotar num gráfico de disperção, onde cada lançamento equivale a um ponto no gráfico:"
   ]
  },
  {
   "cell_type": "code",
   "execution_count": 37,
   "id": "3d6e43fd",
   "metadata": {},
   "outputs": [
    {
     "data": {
      "image/png": "[encoded data removed]",
      "text/plain": [
       "<Figure size 700x400 with 1 Axes>"
      ]
     },
     "metadata": {},
     "output_type": "display_data"
    }
   ],
   "source": [
    "# Criando o gráfico de dispersão\n",
    "plt.figure(figsize=(7, 4))  # Define o tamanho da figura\n",
    "plt.scatter(df_contagem['published_year'], df_contagem['quantidade'], marker='o', color='red', alpha=0.7)\n",
    "\n",
    "# Adicionando título e rótulos aos eixos\n",
    "plt.title('Livros lançados com o passar dos anos')\n",
    "plt.xlabel('Ano de Lançamento')\n",
    "plt.ylabel('Quantidade de Livros Lançados')\n",
    "\n",
    "# Mostrando o gráfico\n",
    "plt.tight_layout()  # Ajusta a disposição do gráfico para melhor visualização\n",
    "plt.show()"
   ]
  },
  {
   "cell_type": "markdown",
   "id": "9457b17e",
   "metadata": {},
   "source": [
    "Observando o gráfico, percebe-se que, desde 1925, aproximadamente, a quantidade de livros lançados aumentou em frequência de lançamento - porém, a partir dos anos 2000 que houve uma explosão de lançamentos, provavelmente visto a alta demanda. Vale ressaltar que, próximo dos anos 2000, houve um crescente interesse no público \"teen\", com leituras juvenis, atraindo um grande público infantojuvenil da época para os livros. Harry Potter, Crepúsculo... Soa familiar?"
   ]
  },
  {
   "cell_type": "markdown",
   "id": "f92b6c48",
   "metadata": {},
   "source": [
    "## Por fim, avaliação de gêneros específicos para perceber as respectivas vendas e popularidade"
   ]
  },
  {
   "cell_type": "markdown",
   "id": "7ee1ae51",
   "metadata": {},
   "source": [
    "Para visualizarmos os dados que gostaríamos de trabalhar, agrupei por categorias em *um *groupby* e contei a quantidade de livros/títulos existentes por categoria, bem como o ID de cada categoria de forma crescente, totalizando 31 categorias avaliadas."
   ]
  },
  {
   "cell_type": "code",
   "execution_count": 12,
   "id": "c1ca7d98",
   "metadata": {},
   "outputs": [
    {
     "data": {
      "text/html": [
       "<div>\n",
       "<style scoped>\n",
       "    .dataframe tbody tr th:only-of-type {\n",
       "        vertical-align: middle;\n",
       "    }\n",
       "\n",
       "    .dataframe tbody tr th {\n",
       "        vertical-align: top;\n",
       "    }\n",
       "\n",
       "    .dataframe thead th {\n",
       "        text-align: right;\n",
       "    }\n",
       "</style>\n",
       "<table border=\"1\" class=\"dataframe\">\n",
       "  <thead>\n",
       "    <tr style=\"text-align: right;\">\n",
       "      <th></th>\n",
       "      <th>category_id</th>\n",
       "      <th>category_name</th>\n",
       "      <th>books_per_category</th>\n",
       "    </tr>\n",
       "  </thead>\n",
       "  <tbody>\n",
       "    <tr>\n",
       "      <th>0</th>\n",
       "      <td>1</td>\n",
       "      <td>Arts &amp; Photo graphy</td>\n",
       "      <td>4916</td>\n",
       "    </tr>\n",
       "    <tr>\n",
       "      <th>1</th>\n",
       "      <td>2</td>\n",
       "      <td>Comics</td>\n",
       "      <td>478</td>\n",
       "    </tr>\n",
       "    <tr>\n",
       "      <th>2</th>\n",
       "      <td>3</td>\n",
       "      <td>Education &amp; Teaching</td>\n",
       "      <td>4986</td>\n",
       "    </tr>\n",
       "    <tr>\n",
       "      <th>3</th>\n",
       "      <td>4</td>\n",
       "      <td>History</td>\n",
       "      <td>2045</td>\n",
       "    </tr>\n",
       "    <tr>\n",
       "      <th>4</th>\n",
       "      <td>5</td>\n",
       "      <td>Literature &amp; Fiction</td>\n",
       "      <td>4152</td>\n",
       "    </tr>\n",
       "    <tr>\n",
       "      <th>5</th>\n",
       "      <td>6</td>\n",
       "      <td>Parenting &amp; Relationships</td>\n",
       "      <td>5901</td>\n",
       "    </tr>\n",
       "    <tr>\n",
       "      <th>6</th>\n",
       "      <td>7</td>\n",
       "      <td>Romance</td>\n",
       "      <td>2214</td>\n",
       "    </tr>\n",
       "    <tr>\n",
       "      <th>7</th>\n",
       "      <td>8</td>\n",
       "      <td>Sports &amp; Outdoors</td>\n",
       "      <td>3206</td>\n",
       "    </tr>\n",
       "    <tr>\n",
       "      <th>8</th>\n",
       "      <td>9</td>\n",
       "      <td>Biographies &amp; Memoirs</td>\n",
       "      <td>5405</td>\n",
       "    </tr>\n",
       "    <tr>\n",
       "      <th>9</th>\n",
       "      <td>10</td>\n",
       "      <td>Computers &amp; Technology</td>\n",
       "      <td>5504</td>\n",
       "    </tr>\n",
       "    <tr>\n",
       "      <th>10</th>\n",
       "      <td>11</td>\n",
       "      <td>Engineering &amp; Transportation</td>\n",
       "      <td>6162</td>\n",
       "    </tr>\n",
       "    <tr>\n",
       "      <th>11</th>\n",
       "      <td>12</td>\n",
       "      <td>Humor &amp; Entertainment</td>\n",
       "      <td>4095</td>\n",
       "    </tr>\n",
       "    <tr>\n",
       "      <th>12</th>\n",
       "      <td>13</td>\n",
       "      <td>Medical</td>\n",
       "      <td>2583</td>\n",
       "    </tr>\n",
       "    <tr>\n",
       "      <th>13</th>\n",
       "      <td>14</td>\n",
       "      <td>Politics &amp; Social Sciences</td>\n",
       "      <td>4207</td>\n",
       "    </tr>\n",
       "    <tr>\n",
       "      <th>14</th>\n",
       "      <td>15</td>\n",
       "      <td>Science &amp; Math</td>\n",
       "      <td>5955</td>\n",
       "    </tr>\n",
       "    <tr>\n",
       "      <th>15</th>\n",
       "      <td>16</td>\n",
       "      <td>Teen &amp; Young Adult</td>\n",
       "      <td>5738</td>\n",
       "    </tr>\n",
       "    <tr>\n",
       "      <th>16</th>\n",
       "      <td>17</td>\n",
       "      <td>Business &amp; Money</td>\n",
       "      <td>2577</td>\n",
       "    </tr>\n",
       "    <tr>\n",
       "      <th>17</th>\n",
       "      <td>18</td>\n",
       "      <td>Cookbooks, Food &amp; Wine</td>\n",
       "      <td>5333</td>\n",
       "    </tr>\n",
       "    <tr>\n",
       "      <th>18</th>\n",
       "      <td>19</td>\n",
       "      <td>Foreign Language</td>\n",
       "      <td>5724</td>\n",
       "    </tr>\n",
       "    <tr>\n",
       "      <th>19</th>\n",
       "      <td>20</td>\n",
       "      <td>Law</td>\n",
       "      <td>5027</td>\n",
       "    </tr>\n",
       "    <tr>\n",
       "      <th>20</th>\n",
       "      <td>21</td>\n",
       "      <td>Mystery, Thriller &amp; Suspense</td>\n",
       "      <td>6272</td>\n",
       "    </tr>\n",
       "    <tr>\n",
       "      <th>21</th>\n",
       "      <td>22</td>\n",
       "      <td>Reference</td>\n",
       "      <td>3388</td>\n",
       "    </tr>\n",
       "    <tr>\n",
       "      <th>22</th>\n",
       "      <td>23</td>\n",
       "      <td>Science Fiction &amp; Fantasy</td>\n",
       "      <td>3995</td>\n",
       "    </tr>\n",
       "    <tr>\n",
       "      <th>23</th>\n",
       "      <td>24</td>\n",
       "      <td>Travel</td>\n",
       "      <td>5526</td>\n",
       "    </tr>\n",
       "    <tr>\n",
       "      <th>24</th>\n",
       "      <td>25</td>\n",
       "      <td>Children's eBooks</td>\n",
       "      <td>5747</td>\n",
       "    </tr>\n",
       "    <tr>\n",
       "      <th>25</th>\n",
       "      <td>26</td>\n",
       "      <td>Crafts, Hobbies &amp; Home</td>\n",
       "      <td>5502</td>\n",
       "    </tr>\n",
       "    <tr>\n",
       "      <th>26</th>\n",
       "      <td>27</td>\n",
       "      <td>Health, Fitness &amp; Dieting</td>\n",
       "      <td>1585</td>\n",
       "    </tr>\n",
       "    <tr>\n",
       "      <th>27</th>\n",
       "      <td>28</td>\n",
       "      <td>LGBTQ+ eBooks</td>\n",
       "      <td>5517</td>\n",
       "    </tr>\n",
       "    <tr>\n",
       "      <th>28</th>\n",
       "      <td>29</td>\n",
       "      <td>Nonfiction</td>\n",
       "      <td>899</td>\n",
       "    </tr>\n",
       "    <tr>\n",
       "      <th>29</th>\n",
       "      <td>30</td>\n",
       "      <td>Religion &amp; Spirituality</td>\n",
       "      <td>4970</td>\n",
       "    </tr>\n",
       "    <tr>\n",
       "      <th>30</th>\n",
       "      <td>31</td>\n",
       "      <td>Self-Help</td>\n",
       "      <td>3493</td>\n",
       "    </tr>\n",
       "  </tbody>\n",
       "</table>\n",
       "</div>"
      ],
      "text/plain": [
       "    category_id                 category_name  books_per_category\n",
       "0             1           Arts & Photo graphy                4916\n",
       "1             2                        Comics                 478\n",
       "2             3          Education & Teaching                4986\n",
       "3             4                       History                2045\n",
       "4             5          Literature & Fiction                4152\n",
       "5             6     Parenting & Relationships                5901\n",
       "6             7                       Romance                2214\n",
       "7             8             Sports & Outdoors                3206\n",
       "8             9         Biographies & Memoirs                5405\n",
       "9            10        Computers & Technology                5504\n",
       "10           11  Engineering & Transportation                6162\n",
       "11           12         Humor & Entertainment                4095\n",
       "12           13                       Medical                2583\n",
       "13           14    Politics & Social Sciences                4207\n",
       "14           15                Science & Math                5955\n",
       "15           16            Teen & Young Adult                5738\n",
       "16           17              Business & Money                2577\n",
       "17           18        Cookbooks, Food & Wine                5333\n",
       "18           19              Foreign Language                5724\n",
       "19           20                           Law                5027\n",
       "20           21  Mystery, Thriller & Suspense                6272\n",
       "21           22                     Reference                3388\n",
       "22           23     Science Fiction & Fantasy                3995\n",
       "23           24                        Travel                5526\n",
       "24           25             Children's eBooks                5747\n",
       "25           26        Crafts, Hobbies & Home                5502\n",
       "26           27     Health, Fitness & Dieting                1585\n",
       "27           28                 LGBTQ+ eBooks                5517\n",
       "28           29                    Nonfiction                 899\n",
       "29           30       Religion & Spirituality                4970\n",
       "30           31                     Self-Help                3493"
      ]
     },
     "execution_count": 12,
     "metadata": {},
     "output_type": "execute_result"
    }
   ],
   "source": [
    "df_filtered.groupby(['category_id', 'category_name'])['category_name'].count().reset_index(name='books_per_category')"
   ]
  },
  {
   "cell_type": "markdown",
   "id": "85cebbde",
   "metadata": {},
   "source": [
    "Visto que a ID de categoria não interfere na nossa visualização, que, afinal, o mais importante é a categoria e seu nome, retirei a coluna *id_category*. Ao realizar o *groupby()* novamente, para agrupar os títulos por categoria, aproveitei para somar o total de reviews por categoria e a quantidade de títulos, salvando num novo dataframe chamado *df_books*."
   ]
  },
  {
   "cell_type": "code",
   "execution_count": 77,
   "id": "aa4c9eb7",
   "metadata": {},
   "outputs": [],
   "source": [
    "df_books = df_filtered[['category_name', 'reviews']].groupby(['category_name']).agg({'category_name' : 'count', 'reviews' : 'sum'})"
   ]
  },
  {
   "cell_type": "markdown",
   "id": "8faf7bc1",
   "metadata": {},
   "source": [
    "Apenas a fim de organização, renomeei as colunas para melhor visualização e organizei os valores de forma decrescente considerando o somatório de números de livros lançados por categoria."
   ]
  },
  {
   "cell_type": "code",
   "execution_count": 78,
   "id": "128c3aa8",
   "metadata": {},
   "outputs": [],
   "source": [
    "df_books = df_books.rename(columns={'category_name' : 'nr_books_per_category', 'reviews' : 'total_reviews'}).sort_values('nr_books_per_category', ascending=False)"
   ]
  },
  {
   "cell_type": "code",
   "execution_count": 79,
   "id": "1eec7321",
   "metadata": {},
   "outputs": [
    {
     "data": {
      "text/html": [
       "<div>\n",
       "<style scoped>\n",
       "    .dataframe tbody tr th:only-of-type {\n",
       "        vertical-align: middle;\n",
       "    }\n",
       "\n",
       "    .dataframe tbody tr th {\n",
       "        vertical-align: top;\n",
       "    }\n",
       "\n",
       "    .dataframe thead th {\n",
       "        text-align: right;\n",
       "    }\n",
       "</style>\n",
       "<table border=\"1\" class=\"dataframe\">\n",
       "  <thead>\n",
       "    <tr style=\"text-align: right;\">\n",
       "      <th></th>\n",
       "      <th>nr_books_per_category</th>\n",
       "      <th>total_reviews</th>\n",
       "    </tr>\n",
       "    <tr>\n",
       "      <th>category_name</th>\n",
       "      <th></th>\n",
       "      <th></th>\n",
       "    </tr>\n",
       "  </thead>\n",
       "  <tbody>\n",
       "    <tr>\n",
       "      <th>Mystery, Thriller &amp; Suspense</th>\n",
       "      <td>6272</td>\n",
       "      <td>34690</td>\n",
       "    </tr>\n",
       "    <tr>\n",
       "      <th>Engineering &amp; Transportation</th>\n",
       "      <td>6162</td>\n",
       "      <td>0</td>\n",
       "    </tr>\n",
       "    <tr>\n",
       "      <th>Science &amp; Math</th>\n",
       "      <td>5955</td>\n",
       "      <td>0</td>\n",
       "    </tr>\n",
       "    <tr>\n",
       "      <th>Parenting &amp; Relationships</th>\n",
       "      <td>5901</td>\n",
       "      <td>228985</td>\n",
       "    </tr>\n",
       "    <tr>\n",
       "      <th>Children's eBooks</th>\n",
       "      <td>5747</td>\n",
       "      <td>0</td>\n",
       "    </tr>\n",
       "    <tr>\n",
       "      <th>Teen &amp; Young Adult</th>\n",
       "      <td>5738</td>\n",
       "      <td>17238533</td>\n",
       "    </tr>\n",
       "    <tr>\n",
       "      <th>Foreign Language</th>\n",
       "      <td>5724</td>\n",
       "      <td>7481625</td>\n",
       "    </tr>\n",
       "    <tr>\n",
       "      <th>Travel</th>\n",
       "      <td>5526</td>\n",
       "      <td>2519130</td>\n",
       "    </tr>\n",
       "    <tr>\n",
       "      <th>LGBTQ+ eBooks</th>\n",
       "      <td>5517</td>\n",
       "      <td>4778258</td>\n",
       "    </tr>\n",
       "    <tr>\n",
       "      <th>Computers &amp; Technology</th>\n",
       "      <td>5504</td>\n",
       "      <td>1110428</td>\n",
       "    </tr>\n",
       "    <tr>\n",
       "      <th>Crafts, Hobbies &amp; Home</th>\n",
       "      <td>5502</td>\n",
       "      <td>112309</td>\n",
       "    </tr>\n",
       "    <tr>\n",
       "      <th>Biographies &amp; Memoirs</th>\n",
       "      <td>5405</td>\n",
       "      <td>11596189</td>\n",
       "    </tr>\n",
       "    <tr>\n",
       "      <th>Cookbooks, Food &amp; Wine</th>\n",
       "      <td>5333</td>\n",
       "      <td>454890</td>\n",
       "    </tr>\n",
       "    <tr>\n",
       "      <th>Law</th>\n",
       "      <td>5027</td>\n",
       "      <td>0</td>\n",
       "    </tr>\n",
       "    <tr>\n",
       "      <th>Education &amp; Teaching</th>\n",
       "      <td>4986</td>\n",
       "      <td>1129461</td>\n",
       "    </tr>\n",
       "    <tr>\n",
       "      <th>Religion &amp; Spirituality</th>\n",
       "      <td>4970</td>\n",
       "      <td>7775774</td>\n",
       "    </tr>\n",
       "    <tr>\n",
       "      <th>Arts &amp; Photo graphy</th>\n",
       "      <td>4916</td>\n",
       "      <td>2234091</td>\n",
       "    </tr>\n",
       "    <tr>\n",
       "      <th>Politics &amp; Social Sciences</th>\n",
       "      <td>4207</td>\n",
       "      <td>5117821</td>\n",
       "    </tr>\n",
       "    <tr>\n",
       "      <th>Literature &amp; Fiction</th>\n",
       "      <td>4152</td>\n",
       "      <td>38155100</td>\n",
       "    </tr>\n",
       "    <tr>\n",
       "      <th>Humor &amp; Entertainment</th>\n",
       "      <td>4095</td>\n",
       "      <td>0</td>\n",
       "    </tr>\n",
       "    <tr>\n",
       "      <th>Science Fiction &amp; Fantasy</th>\n",
       "      <td>3995</td>\n",
       "      <td>10825682</td>\n",
       "    </tr>\n",
       "    <tr>\n",
       "      <th>Self-Help</th>\n",
       "      <td>3493</td>\n",
       "      <td>2550775</td>\n",
       "    </tr>\n",
       "    <tr>\n",
       "      <th>Reference</th>\n",
       "      <td>3388</td>\n",
       "      <td>0</td>\n",
       "    </tr>\n",
       "    <tr>\n",
       "      <th>Sports &amp; Outdoors</th>\n",
       "      <td>3206</td>\n",
       "      <td>0</td>\n",
       "    </tr>\n",
       "    <tr>\n",
       "      <th>Medical</th>\n",
       "      <td>2583</td>\n",
       "      <td>0</td>\n",
       "    </tr>\n",
       "    <tr>\n",
       "      <th>Business &amp; Money</th>\n",
       "      <td>2577</td>\n",
       "      <td>0</td>\n",
       "    </tr>\n",
       "    <tr>\n",
       "      <th>Romance</th>\n",
       "      <td>2214</td>\n",
       "      <td>0</td>\n",
       "    </tr>\n",
       "    <tr>\n",
       "      <th>History</th>\n",
       "      <td>2045</td>\n",
       "      <td>2314015</td>\n",
       "    </tr>\n",
       "    <tr>\n",
       "      <th>Health, Fitness &amp; Dieting</th>\n",
       "      <td>1585</td>\n",
       "      <td>0</td>\n",
       "    </tr>\n",
       "    <tr>\n",
       "      <th>Nonfiction</th>\n",
       "      <td>899</td>\n",
       "      <td>1986149</td>\n",
       "    </tr>\n",
       "    <tr>\n",
       "      <th>Comics</th>\n",
       "      <td>478</td>\n",
       "      <td>467586</td>\n",
       "    </tr>\n",
       "  </tbody>\n",
       "</table>\n",
       "</div>"
      ],
      "text/plain": [
       "                              nr_books_per_category  total_reviews\n",
       "category_name                                                     \n",
       "Mystery, Thriller & Suspense                   6272          34690\n",
       "Engineering & Transportation                   6162              0\n",
       "Science & Math                                 5955              0\n",
       "Parenting & Relationships                      5901         228985\n",
       "Children's eBooks                              5747              0\n",
       "Teen & Young Adult                             5738       17238533\n",
       "Foreign Language                               5724        7481625\n",
       "Travel                                         5526        2519130\n",
       "LGBTQ+ eBooks                                  5517        4778258\n",
       "Computers & Technology                         5504        1110428\n",
       "Crafts, Hobbies & Home                         5502         112309\n",
       "Biographies & Memoirs                          5405       11596189\n",
       "Cookbooks, Food & Wine                         5333         454890\n",
       "Law                                            5027              0\n",
       "Education & Teaching                           4986        1129461\n",
       "Religion & Spirituality                        4970        7775774\n",
       "Arts & Photo graphy                            4916        2234091\n",
       "Politics & Social Sciences                     4207        5117821\n",
       "Literature & Fiction                           4152       38155100\n",
       "Humor & Entertainment                          4095              0\n",
       "Science Fiction & Fantasy                      3995       10825682\n",
       "Self-Help                                      3493        2550775\n",
       "Reference                                      3388              0\n",
       "Sports & Outdoors                              3206              0\n",
       "Medical                                        2583              0\n",
       "Business & Money                               2577              0\n",
       "Romance                                        2214              0\n",
       "History                                        2045        2314015\n",
       "Health, Fitness & Dieting                      1585              0\n",
       "Nonfiction                                      899        1986149\n",
       "Comics                                          478         467586"
      ]
     },
     "execution_count": 79,
     "metadata": {},
     "output_type": "execute_result"
    }
   ],
   "source": [
    "df_books"
   ]
  },
  {
   "cell_type": "markdown",
   "id": "ff688eb2",
   "metadata": {},
   "source": [
    "Para melhor visualização da quantidade de livros vendidos por categoria, montei um gráfico em barras horizontais: "
   ]
  },
  {
   "cell_type": "code",
   "execution_count": 164,
   "id": "85fb37b2",
   "metadata": {},
   "outputs": [
    {
     "data": {
      "image/png": "[encoded data removed]",
      "text/plain": [
       "<Figure size 900x700 with 1 Axes>"
      ]
     },
     "metadata": {},
     "output_type": "display_data"
    }
   ],
   "source": [
    "# Dados\n",
    "categorias = df_books.index\n",
    "valores = df_books.nr_books_per_category\n",
    "colors= ['orange', 'green', 'blue', 'skyblue']\n",
    "\n",
    "# Ajeitando o tamamho do gráfico\n",
    "plt.figure(figsize=(9, 7), layout='constrained') \n",
    "\n",
    "# Criando o gráfico de barras agrupadas\n",
    "plt.barh(categorias, valores, color=colors, alpha=0.7)\n",
    "\n",
    "# Adicionando título e rótulos aos eixos\n",
    "plt.title('Número de títulos x Categorias')\n",
    "plt.xlabel('Número de Títulos')\n",
    "plt.ylabel('Categoria')\n",
    "\n",
    "\n",
    "# Mostrando o gráfico\n",
    "plt.show()\n",
    "\n"
   ]
  },
  {
   "cell_type": "markdown",
   "id": "28252266",
   "metadata": {},
   "source": [
    "Avaliando o gráfico, percebe-se que 'Mystery, Thriller & Suspense' está como mais categoria com maior número de publicações, 'Engineering & Transportation' em segundo lugar, 'Science & Math', 'Parenting & Relationships', 'Children's eBooks' em terceiro, quarto e quinto, respectivamente. Assim, é possível avaliar diversas informações, como, por exemplo:\n",
    "- Livros de comida, por exemplo, não estão no top5 de vendas, porém possuem mais de 50 mil títulos.\n",
    "- Livros de engenharia, por exemplo, estão num dos mais publicados de todos os disponibilizados.\n",
    "- Livros de cuidados com crianças, para os pais, são bastante publicados - quase 60 mil títulos. "
   ]
  },
  {
   "cell_type": "markdown",
   "id": "a4d8b169",
   "metadata": {},
   "source": [
    "Todavia, apenas números de publicações não são considerados, pois podemos ter muitos títulos de um certo conteúdo que não existe procura/demanda, ou, como avaliado neste trabalho, \"reviews\". Portanto, avalia-se, também, os títulos por seus reviews."
   ]
  },
  {
   "cell_type": "markdown",
   "id": "f77fd980",
   "metadata": {},
   "source": [
    "Visto que o número de reviews é muito superior em valor numérico que o número de títulos, os dois, se colocados na mesma tabela, o primeiro acaba interferindo na visualização do outro. Portanto, realizei tabelas separadas."
   ]
  },
  {
   "cell_type": "markdown",
   "id": "77f52270",
   "metadata": {},
   "source": [
    "Como visto na tabela *df_books* publicada acima, existem reviews que o valor é zero. Como é zero, não existe necessidade de barras vazias. Assim, filtrei através do *.iloc* do pandas onde existissem apenas valores não nulos (não-zeros), com a função *.nonzero()* do numpy."
   ]
  },
  {
   "cell_type": "code",
   "execution_count": 165,
   "id": "682d722d",
   "metadata": {},
   "outputs": [],
   "source": [
    "filter_table = df_books.iloc[np.nonzero(df_books.total_reviews)]"
   ]
  },
  {
   "cell_type": "code",
   "execution_count": 123,
   "id": "6eba8d76",
   "metadata": {},
   "outputs": [
    {
     "data": {
      "image/png": "[encoded data removed]",
      "text/plain": [
       "<Figure size 900x700 with 1 Axes>"
      ]
     },
     "metadata": {},
     "output_type": "display_data"
    }
   ],
   "source": [
    "# Dados\n",
    "categorias = filter_table.index\n",
    "valores = filter_table.total_reviews.sort_values(ascending=False)\n",
    "\n",
    "# Ajeitando o tamamho do gráfico\n",
    "plt.figure(figsize=(9, 7), layout='constrained') \n",
    "\n",
    "# Criando o gráfico de barras agrupadas\n",
    "plt.barh(categorias, valores, color='r')\n",
    "\n",
    "# Adicionando título e rótulos aos eixos\n",
    "plt.title('Categorias x Reviews')\n",
    "plt.xlabel('Somatório de Reviews')\n",
    "plt.ylabel('Categoria')\n",
    "\n",
    "\n",
    "# Mostrando o gráfico\n",
    "plt.show()\n"
   ]
  },
  {
   "cell_type": "markdown",
   "id": "e90eee84",
   "metadata": {},
   "source": [
    "Agora, avaliando em reviews:\n",
    "- Percebe-se que mistério, thriller e suspense continua como mais favorito da categoria, podendo afirmar que esta categoria de livros ocupa o primeiro lugar nas vendas de livro.\n",
    "- Bem como observado anteriormente, os livros de *parenting* também são altamente avaliados e procurados, que, mesmo sendo um público alvo e nicho específico, possui bastante visualização.\n",
    "- Combinando as informações, por mais que 'Engineering & Transportation possua grande número de publicações, ele nem sequer apareceu no segundo gráfico de reviews: ou seja, **um largo número de títulos e uma categoria inteira que não possui avaliação sequer**, indicando que não há uma demanda que compense a quantidade de exemplar da categoria.\n",
    "\n",
    "Isso corrobora com a prática que todo analista deve ter: não olhar apenas valores e números por si só num contexto isolado, pois, conforme mostrado, tudo deve ser avaliado conforme um contexto e uma necessidade, buscando retirar informações que mais condizem com a realidade."
   ]
  },
  {
   "cell_type": "markdown",
   "id": "cd8a0564",
   "metadata": {},
   "source": [
    "Estes foram apenas alguns exemplos de análises que me dispus a realizar com fim de aprendizado e prática, portanto os dados são muito mais do que números; estes geram informação que nos levam a conclusões, gerando ideias e estimulando a visão analítica. Assim, deixo em aberto para quem quiser obter mais respostas a mais perguntas que devem surgir, e com certeza irão, pois é possível obter um mundo de informações de uma planilha.\n",
    "\n",
    "Atenciosamente, Ana Luisa."
   ]
  }
 ],
 "metadata": {
  "kernelspec": {
   "display_name": "Python 3 (ipykernel)",
   "language": "python",
   "name": "python3"
  },
  "language_info": {
   "codemirror_mode": {
    "name": "ipython",
    "version": 3
   },
   "file_extension": ".py",
   "mimetype": "text/x-python",
   "name": "python",
   "nbconvert_exporter": "python",
   "pygments_lexer": "ipython3",
   "version": "3.11.5"
  }
 },
 "nbformat": 4,
 "nbformat_minor": 5
}
